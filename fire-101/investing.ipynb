{
 "cells": [
  {
   "cell_type": "markdown",
   "metadata": {
    "editable": true,
    "slideshow": {
     "slide_type": ""
    },
    "tags": []
   },
   "source": [
    "# Investing\n",
    "## Warning I am NOT an accredited financial advisor\n",
    "### Before investing\n",
    " - Payoff debts\n",
    " - Build emergency funds (General rule: Be able to cover 3-6 months of expenses)\n",
    " \n",
    "### Investing versus saving\n",
    "\n",
    "### Liquid versus non-liquid assets\n",
    " - How quickly can I cash out my investment/assets?\n",
    " - Are there any penalties/fees for early withdrawl?\n",
    "\n"
   ]
  },
  {
   "cell_type": "markdown",
   "metadata": {
    "editable": true,
    "slideshow": {
     "slide_type": ""
    },
    "tags": []
   },
   "source": [
    "<br>\n",
    "\n",
    "----------\n",
    "<br>"
   ]
  },
  {
   "cell_type": "markdown",
   "metadata": {
    "editable": true,
    "slideshow": {
     "slide_type": ""
    },
    "tags": []
   },
   "source": [
    " ## Investing options\n",
    " ### Standard investment options\n",
    " - Savings\n",
    " - Money Market\n",
    " - Certificate of Deposit (CD)\n",
    " - Bonds\n",
    " - Stocks (Index Funds)\n",
    " - Real estate\n",
    " \n",
    " ### Speculation (risky investments)\n",
    "  - Lottery\n",
    "  - CryptoCurrency\n",
    "  - Individual stocks\n",
    "    - Meme stocks (Gamestop)\n",
    "    - Stock options\n",
    "  \n",
    " ### How & where to invest (keep it simple)\n",
    " * Company investments\n",
    "     * **401K**\n",
    "     * Employee Stock Purchase Plans\n",
    " * GWU investment options\n",
    "     * **GW 403(b) Supplemental Retirement Plan**\n",
    "     * **GW 401(a) Retirement Plan for Faculty and Staff**\n",
    "     * GW 457(b) Deferred Compensation Plan & GW 457(f) Restoration Plan\n",
    " * Online broker (Vanguard, Schwab, Robinhood, etc.)\n",
    "     * **target age retirement fund**\n",
    "     * **index funds**\n",
    "     * ETFs (groups of stocks)\n",
    "     * traditional & roth IRAs (tax benefits)\n",
    "     * actively managed funds (beware)\n",
    "     * Robo advisers (automated allocation and diversification offered by many online brokers)\n",
    " * Certified Financial Planner (CFP)\n",
    " \n",
    "### Free money (Yes you heard that right)\n",
    " * Company benefits\n",
    "     * 401k matching\n",
    "     * **403(b) with 401(a) funding plus matching**\n",
    "     * Employee Stock Purchase Plan discounts\n",
    "     * HSA and other tax free options\n",
    "* For advanced users only\n",
    "    * Gaming the system with reward credit cards\n",
    " \n"
   ]
  },
  {
   "cell_type": "markdown",
   "metadata": {
    "editable": true,
    "slideshow": {
     "slide_type": ""
    },
    "tags": []
   },
   "source": [
    "<br>\n",
    "\n",
    "----------\n",
    "<br>"
   ]
  },
  {
   "cell_type": "markdown",
   "metadata": {
    "editable": true,
    "slideshow": {
     "slide_type": ""
    },
    "tags": []
   },
   "source": [
    " ## Investing strategies\n",
    " - Diversify\n",
    " - Low or no fee index funds\n",
    " - Be wary of investment advisers\n",
    " - \"Past performance does not guarantee future results\"\n",
    " \n",
    "### Invest early and often (more compound interest magic)\n",
    "\n",
    "### Set it and forget it\n",
    "\n"
   ]
  },
  {
   "cell_type": "markdown",
   "metadata": {
    "editable": true,
    "slideshow": {
     "slide_type": ""
    },
    "tags": []
   },
   "source": [
    "<br>\n",
    "\n",
    "----------\n",
    "<br>"
   ]
  }
 ],
 "metadata": {
  "kernelspec": {
   "display_name": "Python 3 (ipykernel)",
   "language": "python",
   "name": "python3"
  },
  "language_info": {
   "codemirror_mode": {
    "name": "ipython",
    "version": 3
   },
   "file_extension": ".py",
   "mimetype": "text/x-python",
   "name": "python",
   "nbconvert_exporter": "python",
   "pygments_lexer": "ipython3",
   "version": "3.9.6"
  },
  "toc": {
   "base_numbering": 1,
   "nav_menu": {},
   "number_sections": false,
   "sideBar": true,
   "skip_h1_title": true,
   "title_cell": "Table of Contents",
   "title_sidebar": "Contents",
   "toc_cell": false,
   "toc_position": {},
   "toc_section_display": true,
   "toc_window_display": false
  }
 },
 "nbformat": 4,
 "nbformat_minor": 4
}
