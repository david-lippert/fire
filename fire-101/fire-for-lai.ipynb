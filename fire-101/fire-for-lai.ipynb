{
 "cells": [
  {
   "attachments": {},
   "cell_type": "raw",
   "metadata": {},
   "source": [
    "# Set Your Money on FIRE\n",
    "## Money and Investing 101\n",
    "### How to become financially independent\n",
    "\n",
    "\n",
    "# Execute this cell to load the notebook's style sheet, then ignore it\n",
    "#from IPython.core.display import HTML\n",
    "#css_file = '../../../style/custom.css'\n",
    "#HTML(open(css_file, \"r\").read())"
   ]
  },
  {
   "cell_type": "code",
   "execution_count": null,
   "metadata": {
    "scrolled": true
   },
   "outputs": [],
   "source": [
    "import pandas as pd\n",
    "import ipywidgets as widgets\n",
    "import matplotlib.ticker as mtick\n",
    "from IPython.display import YouTubeVideo, display"
   ]
  },
  {
   "cell_type": "code",
   "execution_count": null,
   "metadata": {
    "scrolled": true
   },
   "outputs": [],
   "source": [
    "#future self functions\n",
    "savings = .0000001\n",
    "money_market = .01\n",
    "cd = .04\n",
    "stocks = .07\n",
    "\n",
    "def calc_simple_compound_interest(i, r, t, one_time):\n",
    "    if one_time is True:\n",
    "        return i*(1+r)**t\n",
    "    else:\n",
    "        return i * (1+r) ** t + i * (1+r) * ((1+r) ** t - 1) / r\n",
    "    \n",
    "def get_compound_simple_df(i, one_time):\n",
    "    start_age = 20\n",
    "    stop_age = 60\n",
    "    yi = i*365\n",
    "    \n",
    "    df = pd.DataFrame({'Age': pd.Series(range(start_age,stop_age))})\n",
    "    \n",
    "    df['Mattress 0%'] = df.apply(lambda x: calc_simple_compound_interest(yi, savings, x['Age']-start_age, one_time), axis=1)\n",
    "    df['Money Market'] = df.apply(lambda x: calc_simple_compound_interest(yi, money_market, x['Age']-start_age, one_time), axis=1)\n",
    "    df['Bank/CD 4%'] = df.apply(lambda x: calc_simple_compound_interest(yi, cd, x['Age']-start_age, one_time), axis=1)\n",
    "    df['Stocks 7%'] = df.apply(lambda x: calc_simple_compound_interest(yi, stocks, x['Age']-start_age, one_time), axis=1)\n",
    "    \n",
    "    return df\n",
    "\n",
    "style = {'description_width': 'initial'}\n",
    "\n",
    "fs_rn_investment = widgets.IntSlider(\n",
    "    value=1,\n",
    "    min=1,\n",
    "    max=20,\n",
    "    step=1,\n",
    "    description='Daily amount you save & invest: $',\n",
    "    disabled=False,\n",
    "    continuous_update=False,\n",
    "    orientation='horizontal',\n",
    "    layout=widgets.Layout(width='100%'),\n",
    "    style=style,\n",
    "    readout=True,\n",
    "    readout_format='d'\n",
    ")\n",
    "\n",
    "fs_rn_play = widgets.Play(\n",
    "    value=1,\n",
    "    min=1,\n",
    "    max=20,\n",
    "    step=1,\n",
    "    description=\"Press play\",\n",
    "    interval=500,\n",
    "    #speed=0,\n",
    "    disabled=False\n",
    ")\n",
    "\n",
    "def fs_rn_output(i):\n",
    "    #create and display dataframe\n",
    "    df_plot = get_compound_simple_df(i, False)\n",
    "    ax = df_plot.plot.line(x='Age', y=['Stocks 7%', 'Bank/CD 4%', 'Mattress 0%'], figsize=(12,8), linewidth=3, grid=True, ylim=(0,1000000))\n",
    "    fmt = '${x:,.0f}'\n",
    "    tick = mtick.StrMethodFormatter(fmt)\n",
    "    ax.yaxis.set_major_formatter(tick)\n",
    "\n",
    "    #display(df_plot)\n",
    "    return(\"compare rate returns example\")"
   ]
  },
  {
   "cell_type": "code",
   "execution_count": null,
   "metadata": {},
   "outputs": [],
   "source": [
    "#retirement functions\n",
    "\n",
    "def calc_stash_compound_interest(w, i, r, t):\n",
    "    return w + (i * (1+r) ** t + i * (1+r) * ((1+r) ** t - 1) / r)\n",
    "\n",
    "def calc_principal(w, i, t):\n",
    "    return w + (i * t)\n",
    "\n",
    "def get_retirement_df(rate, age, max_age, salary, spending, net_worth):\n",
    "    \n",
    "    df = pd.DataFrame({'Age': pd.Series(range(age, max_age))})\n",
    "\n",
    "    df['Yearly Income'] = df.apply(lambda x: salary, axis=1)\n",
    "    df['Yearly Spending'] = df.apply(lambda x: spending, axis=1)\n",
    "    df['Yearly Savings'] = df.apply(lambda x: salary-spending, axis=1)\n",
    "    df['Total Stash'] = df.apply(lambda x: calc_stash_compound_interest(net_worth, salary-spending, rate*.01, x['Age']-age), axis=1)\n",
    "    df['Principal'] = df.apply(lambda x: calc_principal(net_worth, salary-spending, x['Age']-age), axis=1)\n",
    "    df['Total Stash'] = df['Total Stash'].astype('int64')\n",
    "    df['Principal'] = df['Principal'].astype('int64')\n",
    "    return df\n",
    "\n",
    "style = {'description_width': 'initial'}\n",
    "\n",
    "ma = 80\n",
    "age = widgets.IntText(\n",
    "    value=20,\n",
    "    placeholder=20,\n",
    "    description='Age you begin investing:',\n",
    "    readout_format='d',\n",
    "    style=style,\n",
    "    disabled=False\n",
    ")\n",
    "\n",
    "rate = widgets.IntText(\n",
    "    value=4,\n",
    "    placeholder=4,\n",
    "    description='Rate of return on investments:',\n",
    "    readout_format='d',\n",
    "    style=style,\n",
    "    disabled=False\n",
    ")\n",
    "\n",
    "salary = widgets.IntText(\n",
    "    value=80000,\n",
    "    placeholder=80000,\n",
    "    description='Yearly Salary: $',\n",
    "    readout_format='d',\n",
    "    style=style,\n",
    "    disabled=False\n",
    ")\n",
    "\n",
    "spending = widgets.IntText(\n",
    "    value=60000,\n",
    "    placeholder=60000,\n",
    "    description='Yearly Spending: $',\n",
    "    readout_format='d',\n",
    "    style=style,\n",
    "    disabled=False\n",
    ")\n",
    "\n",
    "net_worth = widgets.IntText(\n",
    "    value=20000,\n",
    "    placeholder=20000,\n",
    "    description='Current amount of assets or debt: $',\n",
    "    readout_format='d',\n",
    "    style=style,\n",
    "    disabled=False\n",
    ")\n",
    "\n",
    "def r_output(r, a, sal, sp, w):\n",
    "    #create and display dataframe\n",
    "    \n",
    "    def get_ret_age(df, ret_tgt):\n",
    "        try:\n",
    "            return df['Age'][df['Total Stash'] >= ret_tgt].iloc[0]\n",
    "        except:\n",
    "            return None\n",
    " \n",
    "    def get_ret_num(df, ret_age):\n",
    "        try:\n",
    "            return df['Total Stash'][df['Age'] >= ret_age].iloc[0]\n",
    "        except:\n",
    "            return df['Total Stash'].max()\n",
    "        \n",
    "    def func(stash, retire_number):\n",
    "        if stash > retire_number:\n",
    "            return retire_number\n",
    "        else:\n",
    "            return stash\n",
    "\n",
    "    df_plot = get_retirement_df(r, a, ma, sal, sp, w)\n",
    "    ret_target = 25*sp\n",
    "    ret_age = get_ret_age(df_plot, ret_target)\n",
    "    ret_number = get_ret_num(df_plot, ret_age)\n",
    "    df_plot['Retired Stash'] = df_plot.apply(lambda x: func(x['Total Stash'], ret_number), axis=1)\n",
    "\n",
    "    if ret_age is None:\n",
    "        print(\"Try reducing your spending or you won't have enough money to retire.\")\n",
    "    else:\n",
    "        ax = df_plot.plot.line(x='Age', y=['Total Stash', 'Retired Stash', 'Principal'], figsize=(12,8), linewidth=3, grid=True)\n",
    "        fmt = '${x:,.0f}'\n",
    "        tick = mtick.StrMethodFormatter(fmt)\n",
    "        ax.yaxis.set_major_formatter(tick)\n",
    "        ymin, ymax = ax.get_ylim()\n",
    "        xmin, xmax = ax.get_xlim()\n",
    "        ax.scatter(ret_age, ret_number, s=700, color='yellow', zorder=10)\n",
    "        ax.text(ret_age, ret_number+(ymax/100), s='   You may be able to retire at age ' + str(ret_age), fontsize='xx-large', fontweight='bold', color = 'purple', zorder=11)\n",
    "\n",
    "    #display(df_plot)\n",
    " \n",
    "    return(\"compare rate returns example\")"
   ]
  },
  {
   "cell_type": "markdown",
   "metadata": {},
   "source": [
    "# FIRE Overview"
   ]
  },
  {
   "cell_type": "code",
   "execution_count": null,
   "metadata": {
    "scrolled": true
   },
   "outputs": [],
   "source": [
    "#a 5 minute overview of FIRE\n",
    "YouTubeVideo('8si7cqw9wm0')"
   ]
  },
  {
   "cell_type": "markdown",
   "metadata": {},
   "source": [
    "# How to become financially independent\n",
    "\n",
    "1. Track your spending\n",
    "2. Lower your spending and payoff debts\n",
    "3. Invest\n",
    "4. Retire early and only work when you want on things you are passionate about\n",
    "\n"
   ]
  },
  {
   "cell_type": "markdown",
   "metadata": {},
   "source": [
    "<br>\n",
    "\n",
    "----------\n",
    "<br>"
   ]
  },
  {
   "cell_type": "markdown",
   "metadata": {},
   "source": [
    "# Why should you trust me or any other financial advisor for that matter?\n",
    "\n",
    "## You shouldn't trust me\n",
    "- Ask lots of questions before giving money to someone else\n",
    "- Here is my financial story\n",
    "\n"
   ]
  },
  {
   "cell_type": "markdown",
   "metadata": {},
   "source": [
    "<br>\n",
    "\n",
    "----------\n",
    "<br>"
   ]
  },
  {
   "cell_type": "markdown",
   "metadata": {},
   "source": [
    "# Track your spending - budgeting\n",
    "\n",
    "## First steps to acheiving Financial Independence\n",
    "1. Understand how much you make and how much you spend\n",
    "2. Understand where you spend your money\n",
    "    - Everyone has different styles or preferences (more or less granularity)\n",
    "    - Here are my bins (housing, health, food, transportation, utilities, miscellaneous)\n",
    "\n",
    "**Tools**\n",
    "- YNAB & MINT\n",
    "- Excel\n",
    "- Quicken\n",
    "- Bank apps\n",
    "\n"
   ]
  },
  {
   "cell_type": "markdown",
   "metadata": {},
   "source": [
    "<br>\n",
    "\n",
    "----------\n",
    "<br>"
   ]
  },
  {
   "cell_type": "markdown",
   "metadata": {},
   "source": [
    "# Lower your spending\n",
    "\n",
    "## First things first - PAYOFF debts!!\n",
    "### Debts with high interest are like anti investing\n",
    " - Payoff credit cards (rates can be as high as 15-20%)\n",
    " - Improves credit rating!\n",
    " \n",
    "## The magic of auto bill pay.\n",
    "### Set it and forget it - no late fees with high interest\n",
    "\n"
   ]
  },
  {
   "cell_type": "markdown",
   "metadata": {},
   "source": [
    "<br>\n",
    "\n",
    "----------\n",
    "<br>"
   ]
  },
  {
   "cell_type": "markdown",
   "metadata": {},
   "source": [
    "## How to spend less without being miserable?\n",
    "### Why are you buying that?  (Greed or Fear)\n",
    "### Does that thing really make you happy?\n",
    "- The concept of badassity.\n",
    "- The challenge of consumerism\n",
    "\n"
   ]
  },
  {
   "cell_type": "markdown",
   "metadata": {},
   "source": [
    "<br>\n",
    "\n",
    "----------\n",
    "<br>"
   ]
  },
  {
   "cell_type": "markdown",
   "metadata": {},
   "source": [
    "## Be nice to your future self\n",
    "### 1 coffee at \\\\$4 a day times 365 days in a year = \\\\$1460\n",
    "### minus 1 bag of coffee \\\\$8 each week at home = \\\\$416\n",
    "### total savings = \\\\$1044 per year\n",
    "\n"
   ]
  },
  {
   "cell_type": "markdown",
   "metadata": {},
   "source": [
    "## Be really nice to your future self"
   ]
  },
  {
   "cell_type": "code",
   "execution_count": null,
   "metadata": {},
   "outputs": [],
   "source": [
    "fs_rn_res = widgets.interactive(fs_rn_output, i=fs_rn_investment)\n",
    "widgets.jslink((fs_rn_play, 'value'), (fs_rn_investment, 'value'))\n",
    "widgets.VBox([fs_rn_play, fs_rn_res])"
   ]
  },
  {
   "cell_type": "markdown",
   "metadata": {
    "editable": true,
    "slideshow": {
     "slide_type": ""
    },
    "tags": []
   },
   "source": [
    "<br>\n",
    "\n",
    "----------\n",
    "<br>"
   ]
  },
  {
   "cell_type": "markdown",
   "metadata": {},
   "source": [
    "# Investing\n",
    "## Warning We are NOT accredited financial advisors\n",
    "### Before investing\n",
    " - Payoff debts\n",
    " - Build emergency funds (General rule: Be able to cover 3-6 months of expenses)\n",
    " \n",
    "### Investing versus saving\n",
    "\n",
    "### Liquid versus non-liquid assets\n",
    " - How quickly can I cash out my investment/assets?\n",
    " - Are there any penalties/fees for early withdrawl?\n",
    "\n"
   ]
  },
  {
   "cell_type": "markdown",
   "metadata": {},
   "source": [
    "<br>\n",
    "\n",
    "----------\n",
    "<br>"
   ]
  },
  {
   "cell_type": "markdown",
   "metadata": {},
   "source": [
    " ## Investing options\n",
    " ### Standard investment options\n",
    " - Savings\n",
    " - Money Market\n",
    " - Certificate of Deposit (CD)\n",
    " - Bonds\n",
    " - Stocks (Index Funds)\n",
    " - Real estate\n",
    " \n",
    " ### Speculation (risky investments)\n",
    "  - Lottery\n",
    "  - CryptoCurrency\n",
    "  - Individual stocks\n",
    "    - Meme stocks (Gamestop)\n",
    "    - Stock options\n",
    "  \n",
    " ### How & where to invest (keep it simple)\n",
    " * Company investments\n",
    "     * **401K**\n",
    "     * **Employee Stock Purchase Plans**\n",
    " * Online broker (Vanguard, Schwab, Robinhood, etc.)\n",
    "     * **target age retirement fund**\n",
    "     * **index funds**\n",
    "     * ETFs (groups of stocks)\n",
    "     * traditional & roth IRAs (tax benefits)\n",
    "     * actively managed funds (beware)\n",
    "     * Robo advisers (automated allocation and diversification offered by many online brokers)\n",
    " * Certified Financial Planner (CFP)\n",
    " \n",
    "### Free money (Yes you heard that right)\n",
    " * Company benefits\n",
    "     * 401k matching\n",
    "     * Employee Stock Purchase Plan discounts\n",
    "     * HSA and other tax free options\n",
    "* For advanced users only\n",
    "    * Gaming the system with reward credit cards\n",
    " \n"
   ]
  },
  {
   "cell_type": "markdown",
   "metadata": {},
   "source": [
    "<br>\n",
    "\n",
    "----------\n",
    "<br>"
   ]
  },
  {
   "cell_type": "markdown",
   "metadata": {},
   "source": [
    " ## Investing strategies\n",
    " - Diversify\n",
    " - Low or no fee index funds\n",
    " - Be wary of investment advisers\n",
    " - \"Past performance does not guarantee future results\"\n",
    " \n",
    "### Invest early and often (more compound interest magic)\n",
    "\n",
    "### Set it and forget it\n",
    "\n"
   ]
  },
  {
   "cell_type": "markdown",
   "metadata": {},
   "source": [
    "<br>\n",
    "\n",
    "----------\n",
    "<br>"
   ]
  },
  {
   "cell_type": "markdown",
   "metadata": {},
   "source": [
    " ## Retire early\n",
    " \n",
    " ### 4% and 25 times rules"
   ]
  },
  {
   "cell_type": "code",
   "execution_count": null,
   "metadata": {},
   "outputs": [],
   "source": [
    "r_res = widgets.interactive(r_output, r=rate, a=age, sal=salary, sp=spending, w=net_worth)\n",
    "widgets.VBox([r_res])"
   ]
  },
  {
   "cell_type": "markdown",
   "metadata": {},
   "source": [
    "<br>\n",
    "\n",
    "----------\n",
    "<br>"
   ]
  },
  {
   "cell_type": "markdown",
   "metadata": {},
   "source": [
    "# Takeaway\n",
    " - Track your spending - budgeting\n",
    " - Payoff debts\n",
    " - Lower your spending\n",
    " - Build emergency fund\n",
    " - Invest for the future\n",
    "    - Be nice to your future self\n",
    "    - How soon can you retire?\n",
    "    - The 4% rule\n",
    "    - Invest early and often (more compound interest magic)\n",
    "  \n"
   ]
  },
  {
   "cell_type": "markdown",
   "metadata": {},
   "source": [
    "<br>\n",
    "\n",
    "----------\n",
    "<br>"
   ]
  },
  {
   "cell_type": "markdown",
   "metadata": {},
   "source": [
    "## Links\n",
    "- FIRE Intro on Youtube - https://www.youtube.com/watch?v=8si7cqw9wm0\n",
    "- FIRE retirement calculator - https://playingwithfire.co/retirementcalculator/\n",
    "- Mr. Money Mustache & the 4% Rule - https://www.mrmoneymustache.com/2012/05/29/how-much-do-i-need-for-retirement/\n",
    "- compound interest - https://www.fool.com/how-to-invest/thirteen-steps/step-1-change-your-life-with-one-calculation.aspx"
   ]
  },
  {
   "cell_type": "code",
   "execution_count": null,
   "metadata": {
    "scrolled": true
   },
   "outputs": [],
   "source": []
  },
  {
   "cell_type": "code",
   "execution_count": null,
   "metadata": {},
   "outputs": [],
   "source": []
  }
 ],
 "metadata": {
  "kernelspec": {
   "display_name": "Python 3 (ipykernel)",
   "language": "python",
   "name": "python3"
  },
  "language_info": {
   "codemirror_mode": {
    "name": "ipython",
    "version": 3
   },
   "file_extension": ".py",
   "mimetype": "text/x-python",
   "name": "python",
   "nbconvert_exporter": "python",
   "pygments_lexer": "ipython3",
   "version": "3.9.6"
  },
  "toc": {
   "base_numbering": 1,
   "nav_menu": {},
   "number_sections": false,
   "sideBar": true,
   "skip_h1_title": true,
   "title_cell": "Table of Contents",
   "title_sidebar": "Contents",
   "toc_cell": false,
   "toc_position": {},
   "toc_section_display": true,
   "toc_window_display": false
  }
 },
 "nbformat": 4,
 "nbformat_minor": 4
}
