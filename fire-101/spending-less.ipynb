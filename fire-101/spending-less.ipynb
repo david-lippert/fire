{
 "cells": [
  {
   "attachments": {},
   "cell_type": "markdown",
   "metadata": {
    "editable": true,
    "slideshow": {
     "slide_type": ""
    },
    "tags": []
   },
   "source": [
    "# Lower your spending\n",
    "\n",
    "## First things first - PAYOFF debts!!\n",
    "### Debts with high interest are like anti investing\n",
    " - Payoff credit cards (rates can be as high as 15-20%)\n",
    " - Improves credit rating!\n",
    " \n",
    "## The magic of auto bill pay.\n",
    "### Set it and forget it - no late fees with high interest"
   ]
  },
  {
   "cell_type": "code",
   "execution_count": 1,
   "metadata": {
    "editable": true,
    "scrolled": true,
    "slideshow": {
     "slide_type": ""
    },
    "tags": [
     "hide-input"
    ]
   },
   "outputs": [],
   "source": [
    "import pandas as pd\n",
    "import ipywidgets as widgets\n",
    "import matplotlib.ticker as mtick\n",
    "from IPython.display import YouTubeVideo, display"
   ]
  },
  {
   "cell_type": "code",
   "execution_count": 22,
   "metadata": {
    "editable": true,
    "scrolled": true,
    "slideshow": {
     "slide_type": ""
    },
    "tags": [
     "hide-input"
    ]
   },
   "outputs": [],
   "source": [
    "#future self functions\n",
    "savings = .0000001\n",
    "money_market = .01\n",
    "cd = .04\n",
    "stocks = .07\n",
    "\n",
    "def calc_simple_compound_interest(i, r, t, one_time):\n",
    "    if one_time is True:\n",
    "        return i*(1+r)**t\n",
    "    else:\n",
    "        return i * (1+r) ** t + i * (1+r) * ((1+r) ** t - 1) / r\n",
    "    \n",
    "def get_compound_simple_df(i, one_time):\n",
    "    start_age = 20\n",
    "    stop_age = 65\n",
    "    yi = i*365\n",
    "    \n",
    "    df = pd.DataFrame({'Age': pd.Series(range(start_age,stop_age))})\n",
    "    \n",
    "    df['Mattress 0%'] = df.apply(lambda x: calc_simple_compound_interest(yi, savings, x['Age']-start_age, one_time), axis=1)\n",
    "    df['Money Market'] = df.apply(lambda x: calc_simple_compound_interest(yi, money_market, x['Age']-start_age, one_time), axis=1)\n",
    "    df['Bank/CD 4%'] = df.apply(lambda x: calc_simple_compound_interest(yi, cd, x['Age']-start_age, one_time), axis=1)\n",
    "    df['Stocks 7%'] = df.apply(lambda x: calc_simple_compound_interest(yi, stocks, x['Age']-start_age, one_time), axis=1)\n",
    "    \n",
    "    return df\n",
    "\n",
    "style = {'description_width': 'initial'}\n",
    "\n",
    "fs_rn_investment = widgets.IntSlider(\n",
    "    value=1,\n",
    "    min=1,\n",
    "    max=20,\n",
    "    step=1,\n",
    "    description='Daily amount you save & invest: $',\n",
    "    disabled=False,\n",
    "    continuous_update=False,\n",
    "    orientation='horizontal',\n",
    "    layout=widgets.Layout(width='100%'),\n",
    "    style=style,\n",
    "    readout=True,\n",
    "    readout_format='d'\n",
    ")\n",
    "\n",
    "fs_rn_play = widgets.Play(\n",
    "    value=1,\n",
    "    min=1,\n",
    "    max=20,\n",
    "    step=1,\n",
    "    description=\"Press play\",\n",
    "    interval=500,\n",
    "    #speed=0,\n",
    "    disabled=False\n",
    ")\n",
    "\n",
    "def fs_rn_output(i):\n",
    "    #create and display dataframe\n",
    "    df_plot = get_compound_simple_df(i, False)\n",
    "    ax = df_plot.plot.line(x='Age', y=['Stocks 7%', 'Bank/CD 4%', 'Mattress 0%'], figsize=(12,8), linewidth=3, grid=True, ylim=(0,1000000))\n",
    "    fmt = '${x:,.0f}'\n",
    "    tick = mtick.StrMethodFormatter(fmt)\n",
    "    ax.yaxis.set_major_formatter(tick)\n",
    " \n",
    "    #display(df_plot)\n",
    "    return(\"compare rate returns example\")"
   ]
  },
  {
   "cell_type": "markdown",
   "metadata": {
    "editable": true,
    "slideshow": {
     "slide_type": ""
    },
    "tags": []
   },
   "source": [
    "<br>\n",
    "\n",
    "----------\n",
    "<br>"
   ]
  },
  {
   "cell_type": "markdown",
   "metadata": {
    "editable": true,
    "slideshow": {
     "slide_type": ""
    },
    "tags": []
   },
   "source": [
    "## How to spend less without being miserable?\n",
    "### Why are you buying that?  (Greed or Fear)\n",
    "### Does that thing really make you happy?\n",
    "- The concept of badassity.\n",
    "- The challenge of consumerism\n",
    "\n"
   ]
  },
  {
   "cell_type": "markdown",
   "metadata": {
    "editable": true,
    "slideshow": {
     "slide_type": ""
    },
    "tags": []
   },
   "source": [
    "<br>\n",
    "\n",
    "----------\n",
    "<br>"
   ]
  },
  {
   "cell_type": "markdown",
   "metadata": {
    "editable": true,
    "slideshow": {
     "slide_type": ""
    },
    "tags": []
   },
   "source": [
    "## Be nice to your future self\n",
    "### $\\$$1,825 (1 coffee at $\\$$5 a day times 365 days in a year)\n",
    "### - $\\$$520 (1 bag of coffee $\\$$10 each week at home) \n",
    "### **$\\$$1,305** total savings per year"
   ]
  },
  {
   "cell_type": "markdown",
   "metadata": {
    "editable": true,
    "slideshow": {
     "slide_type": ""
    },
    "tags": []
   },
   "source": [
    "<br>\n",
    "\n",
    "----------\n",
    "<br>"
   ]
  },
  {
   "cell_type": "markdown",
   "metadata": {
    "editable": true,
    "slideshow": {
     "slide_type": ""
    },
    "tags": []
   },
   "source": [
    "## Be really nice to your future self"
   ]
  },
  {
   "cell_type": "code",
   "execution_count": 23,
   "metadata": {
    "editable": true,
    "slideshow": {
     "slide_type": ""
    },
    "tags": [
     "hide-input"
    ]
   },
   "outputs": [
    {
     "data": {
      "application/vnd.jupyter.widget-view+json": {
       "model_id": "df1b77948d5349859aa33fae22f1c8a8",
       "version_major": 2,
       "version_minor": 0
      },
      "text/plain": [
       "VBox(children=(Play(value=1, description='Press play', interval=500, max=20, min=1), interactive(children=(Int…"
      ]
     },
     "execution_count": 23,
     "metadata": {},
     "output_type": "execute_result"
    }
   ],
   "source": [
    "fs_rn_res = widgets.interactive(fs_rn_output, i=fs_rn_investment)\n",
    "widgets.jslink((fs_rn_play, 'value'), (fs_rn_investment, 'value'))\n",
    "widgets.VBox([fs_rn_play, fs_rn_res])"
   ]
  },
  {
   "cell_type": "markdown",
   "metadata": {
    "editable": true,
    "slideshow": {
     "slide_type": ""
    },
    "tags": []
   },
   "source": [
    "<br>\n",
    "\n",
    "----------\n",
    "<br>"
   ]
  },
  {
   "cell_type": "code",
   "execution_count": 24,
   "metadata": {
    "editable": true,
    "slideshow": {
     "slide_type": ""
    },
    "tags": [
     "hide-input"
    ]
   },
   "outputs": [],
   "source": [
    "# Get dataframe for $1 invested\n",
    "df1 = get_compound_simple_df(1, False)\n",
    "df1 = df1.drop('Money Market', axis=1)\n",
    "df1['Mattress 0%'] = df1['Mattress 0%'].map(\"${:,.0f}\".format)\n",
    "df1['Bank/CD 4%'] = df1['Bank/CD 4%'].map(\"${:,.0f}\".format)\n",
    "df1['Stocks 7%'] = df1['Stocks 7%'].map(\"${:,.0f}\".format)\n",
    "\n",
    "# Get dataframe for $10 invested\n",
    "df10 = get_compound_simple_df(10, False)\n",
    "df10 = df10.drop('Money Market', axis=1)\n",
    "df10['Mattress 0%'] = df10['Mattress 0%'].map(\"${:,.0f}\".format)\n",
    "df10['Bank/CD 4%'] = df10['Bank/CD 4%'].map(\"${:,.0f}\".format)\n",
    "df10['Stocks 7%'] = df10['Stocks 7%'].map(\"${:,.0f}\".format)\n",
    "\n",
    "# Get dataframe for $20 invested\n",
    "df20 = get_compound_simple_df(20, False)\n",
    "df20 = df20.drop('Money Market', axis=1)\n",
    "df20['Mattress 0%'] = df20['Mattress 0%'].map(\"${:,.0f}\".format)\n",
    "df20['Bank/CD 4%'] = df20['Bank/CD 4%'].map(\"${:,.0f}\".format)\n",
    "df20['Stocks 7%'] = df20['Stocks 7%'].map(\"${:,.0f}\".format)"
   ]
  },
  {
   "cell_type": "markdown",
   "metadata": {
    "editable": true,
    "slideshow": {
     "slide_type": ""
    },
    "tags": []
   },
   "source": [
    "### $1 Invested"
   ]
  },
  {
   "cell_type": "code",
   "execution_count": 25,
   "metadata": {
    "editable": true,
    "slideshow": {
     "slide_type": ""
    },
    "tags": [
     "hide-input"
    ]
   },
   "outputs": [
    {
     "data": {
      "text/html": [
       "<div>\n",
       "<style scoped>\n",
       "    .dataframe tbody tr th:only-of-type {\n",
       "        vertical-align: middle;\n",
       "    }\n",
       "\n",
       "    .dataframe tbody tr th {\n",
       "        vertical-align: top;\n",
       "    }\n",
       "\n",
       "    .dataframe thead th {\n",
       "        text-align: right;\n",
       "    }\n",
       "</style>\n",
       "<table border=\"1\" class=\"dataframe\">\n",
       "  <thead>\n",
       "    <tr style=\"text-align: right;\">\n",
       "      <th></th>\n",
       "      <th>Age</th>\n",
       "      <th>Mattress 0%</th>\n",
       "      <th>Bank/CD 4%</th>\n",
       "      <th>Stocks 7%</th>\n",
       "    </tr>\n",
       "  </thead>\n",
       "  <tbody>\n",
       "    <tr>\n",
       "      <th>0</th>\n",
       "      <td>20</td>\n",
       "      <td>$365</td>\n",
       "      <td>$365</td>\n",
       "      <td>$365</td>\n",
       "    </tr>\n",
       "    <tr>\n",
       "      <th>10</th>\n",
       "      <td>30</td>\n",
       "      <td>$4,015</td>\n",
       "      <td>$5,098</td>\n",
       "      <td>$6,114</td>\n",
       "    </tr>\n",
       "    <tr>\n",
       "      <th>20</th>\n",
       "      <td>40</td>\n",
       "      <td>$7,665</td>\n",
       "      <td>$12,104</td>\n",
       "      <td>$17,423</td>\n",
       "    </tr>\n",
       "    <tr>\n",
       "      <th>30</th>\n",
       "      <td>50</td>\n",
       "      <td>$11,315</td>\n",
       "      <td>$22,474</td>\n",
       "      <td>$39,670</td>\n",
       "    </tr>\n",
       "    <tr>\n",
       "      <th>40</th>\n",
       "      <td>60</td>\n",
       "      <td>$14,965</td>\n",
       "      <td>$37,824</td>\n",
       "      <td>$83,433</td>\n",
       "    </tr>\n",
       "  </tbody>\n",
       "</table>\n",
       "</div>"
      ],
      "text/plain": [
       "    Age Mattress 0% Bank/CD 4% Stocks 7%\n",
       "0    20        $365       $365      $365\n",
       "10   30      $4,015     $5,098    $6,114\n",
       "20   40      $7,665    $12,104   $17,423\n",
       "30   50     $11,315    $22,474   $39,670\n",
       "40   60     $14,965    $37,824   $83,433"
      ]
     },
     "execution_count": 25,
     "metadata": {},
     "output_type": "execute_result"
    }
   ],
   "source": [
    "df1.iloc[::10, :]"
   ]
  },
  {
   "cell_type": "markdown",
   "metadata": {
    "editable": true,
    "slideshow": {
     "slide_type": ""
    },
    "tags": []
   },
   "source": [
    "### $10 Invested"
   ]
  },
  {
   "cell_type": "code",
   "execution_count": 26,
   "metadata": {
    "editable": true,
    "slideshow": {
     "slide_type": ""
    },
    "tags": [
     "hide-input"
    ]
   },
   "outputs": [
    {
     "data": {
      "text/html": [
       "<div>\n",
       "<style scoped>\n",
       "    .dataframe tbody tr th:only-of-type {\n",
       "        vertical-align: middle;\n",
       "    }\n",
       "\n",
       "    .dataframe tbody tr th {\n",
       "        vertical-align: top;\n",
       "    }\n",
       "\n",
       "    .dataframe thead th {\n",
       "        text-align: right;\n",
       "    }\n",
       "</style>\n",
       "<table border=\"1\" class=\"dataframe\">\n",
       "  <thead>\n",
       "    <tr style=\"text-align: right;\">\n",
       "      <th></th>\n",
       "      <th>Age</th>\n",
       "      <th>Mattress 0%</th>\n",
       "      <th>Bank/CD 4%</th>\n",
       "      <th>Stocks 7%</th>\n",
       "    </tr>\n",
       "  </thead>\n",
       "  <tbody>\n",
       "    <tr>\n",
       "      <th>0</th>\n",
       "      <td>20</td>\n",
       "      <td>$3,650</td>\n",
       "      <td>$3,650</td>\n",
       "      <td>$3,650</td>\n",
       "    </tr>\n",
       "    <tr>\n",
       "      <th>10</th>\n",
       "      <td>30</td>\n",
       "      <td>$40,150</td>\n",
       "      <td>$50,978</td>\n",
       "      <td>$61,140</td>\n",
       "    </tr>\n",
       "    <tr>\n",
       "      <th>20</th>\n",
       "      <td>40</td>\n",
       "      <td>$76,650</td>\n",
       "      <td>$121,035</td>\n",
       "      <td>$174,232</td>\n",
       "    </tr>\n",
       "    <tr>\n",
       "      <th>30</th>\n",
       "      <td>50</td>\n",
       "      <td>$113,150</td>\n",
       "      <td>$224,737</td>\n",
       "      <td>$396,701</td>\n",
       "    </tr>\n",
       "    <tr>\n",
       "      <th>40</th>\n",
       "      <td>60</td>\n",
       "      <td>$149,650</td>\n",
       "      <td>$378,241</td>\n",
       "      <td>$834,332</td>\n",
       "    </tr>\n",
       "  </tbody>\n",
       "</table>\n",
       "</div>"
      ],
      "text/plain": [
       "    Age Mattress 0% Bank/CD 4% Stocks 7%\n",
       "0    20      $3,650     $3,650    $3,650\n",
       "10   30     $40,150    $50,978   $61,140\n",
       "20   40     $76,650   $121,035  $174,232\n",
       "30   50    $113,150   $224,737  $396,701\n",
       "40   60    $149,650   $378,241  $834,332"
      ]
     },
     "execution_count": 26,
     "metadata": {},
     "output_type": "execute_result"
    }
   ],
   "source": [
    "df10.iloc[::10, :]"
   ]
  },
  {
   "cell_type": "markdown",
   "metadata": {
    "editable": true,
    "slideshow": {
     "slide_type": ""
    },
    "tags": []
   },
   "source": [
    "### $20 Invested"
   ]
  },
  {
   "cell_type": "code",
   "execution_count": 27,
   "metadata": {
    "editable": true,
    "slideshow": {
     "slide_type": ""
    },
    "tags": [
     "hide-input"
    ]
   },
   "outputs": [
    {
     "data": {
      "text/html": [
       "<div>\n",
       "<style scoped>\n",
       "    .dataframe tbody tr th:only-of-type {\n",
       "        vertical-align: middle;\n",
       "    }\n",
       "\n",
       "    .dataframe tbody tr th {\n",
       "        vertical-align: top;\n",
       "    }\n",
       "\n",
       "    .dataframe thead th {\n",
       "        text-align: right;\n",
       "    }\n",
       "</style>\n",
       "<table border=\"1\" class=\"dataframe\">\n",
       "  <thead>\n",
       "    <tr style=\"text-align: right;\">\n",
       "      <th></th>\n",
       "      <th>Age</th>\n",
       "      <th>Mattress 0%</th>\n",
       "      <th>Bank/CD 4%</th>\n",
       "      <th>Stocks 7%</th>\n",
       "    </tr>\n",
       "  </thead>\n",
       "  <tbody>\n",
       "    <tr>\n",
       "      <th>0</th>\n",
       "      <td>20</td>\n",
       "      <td>$7,300</td>\n",
       "      <td>$7,300</td>\n",
       "      <td>$7,300</td>\n",
       "    </tr>\n",
       "    <tr>\n",
       "      <th>10</th>\n",
       "      <td>30</td>\n",
       "      <td>$80,300</td>\n",
       "      <td>$101,956</td>\n",
       "      <td>$122,280</td>\n",
       "    </tr>\n",
       "    <tr>\n",
       "      <th>20</th>\n",
       "      <td>40</td>\n",
       "      <td>$153,300</td>\n",
       "      <td>$242,070</td>\n",
       "      <td>$348,464</td>\n",
       "    </tr>\n",
       "    <tr>\n",
       "      <th>30</th>\n",
       "      <td>50</td>\n",
       "      <td>$226,300</td>\n",
       "      <td>$449,474</td>\n",
       "      <td>$793,403</td>\n",
       "    </tr>\n",
       "    <tr>\n",
       "      <th>40</th>\n",
       "      <td>60</td>\n",
       "      <td>$299,301</td>\n",
       "      <td>$756,481</td>\n",
       "      <td>$1,668,663</td>\n",
       "    </tr>\n",
       "  </tbody>\n",
       "</table>\n",
       "</div>"
      ],
      "text/plain": [
       "    Age Mattress 0% Bank/CD 4%   Stocks 7%\n",
       "0    20      $7,300     $7,300      $7,300\n",
       "10   30     $80,300   $101,956    $122,280\n",
       "20   40    $153,300   $242,070    $348,464\n",
       "30   50    $226,300   $449,474    $793,403\n",
       "40   60    $299,301   $756,481  $1,668,663"
      ]
     },
     "execution_count": 27,
     "metadata": {},
     "output_type": "execute_result"
    }
   ],
   "source": [
    "df20.iloc[::10, :]"
   ]
  },
  {
   "cell_type": "code",
   "execution_count": null,
   "metadata": {
    "editable": true,
    "slideshow": {
     "slide_type": ""
    },
    "tags": []
   },
   "outputs": [],
   "source": []
  }
 ],
 "metadata": {
  "kernelspec": {
   "display_name": "Python 3 (ipykernel)",
   "language": "python",
   "name": "python3"
  },
  "language_info": {
   "codemirror_mode": {
    "name": "ipython",
    "version": 3
   },
   "file_extension": ".py",
   "mimetype": "text/x-python",
   "name": "python",
   "nbconvert_exporter": "python",
   "pygments_lexer": "ipython3",
   "version": "3.9.6"
  },
  "toc": {
   "base_numbering": 1,
   "nav_menu": {},
   "number_sections": false,
   "sideBar": true,
   "skip_h1_title": true,
   "title_cell": "Table of Contents",
   "title_sidebar": "Contents",
   "toc_cell": false,
   "toc_position": {},
   "toc_section_display": true,
   "toc_window_display": false
  }
 },
 "nbformat": 4,
 "nbformat_minor": 4
}
