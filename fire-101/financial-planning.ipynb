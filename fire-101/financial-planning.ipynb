{
 "cells": [
  {
   "attachments": {},
   "cell_type": "markdown",
   "metadata": {
    "editable": true,
    "slideshow": {
     "slide_type": ""
    },
    "tags": []
   },
   "source": [
    "# Become financially independent\n",
    " \n",
    "## 4% and 25 times rules\n",
    "\n",
    "| Annual Spending | Retirement Stash Needed |\n",
    "| :-------   | :-------   |\n",
    "| $\\$$25,000 | $\\$$625,000 |\n",
    "| $\\$$50,000 | $\\$$1,250,000 |\n",
    "| $\\$$100,000 | $\\$$2,500,000 |\n",
    "| $\\$$150,000 | $\\$$3,750,000 |\n",
    "\n",
    "<div class=\"alert alert-block alert-info\"><b>Mentimeter Question</b></div>\n",
    "\n",
    "https://www.menti.com/alohp2v13yqh"
   ]
  },
  {
   "cell_type": "code",
   "execution_count": null,
   "metadata": {
    "editable": true,
    "scrolled": true,
    "slideshow": {
     "slide_type": ""
    },
    "tags": [
     "hide-input"
    ]
   },
   "outputs": [],
   "source": [
    "import pandas as pd\n",
    "import ipywidgets as widgets\n",
    "import matplotlib.ticker as mtick\n",
    "from IPython.display import YouTubeVideo, display"
   ]
  },
  {
   "cell_type": "code",
   "execution_count": null,
   "metadata": {
    "editable": true,
    "slideshow": {
     "slide_type": ""
    },
    "tags": [
     "hide-input"
    ]
   },
   "outputs": [],
   "source": [
    "#retirement functions\n",
    "\n",
    "def calc_stash_compound_interest(w, i, r, t):\n",
    "    return w + (i * (1+r) ** t + i * (1+r) * ((1+r) ** t - 1) / r)\n",
    "\n",
    "def calc_principal(w, i, t):\n",
    "    return w + (i * t)\n",
    "\n",
    "def get_retirement_df(rate, age, max_age, salary, spending, net_worth):\n",
    "    \n",
    "    df = pd.DataFrame({'Age': pd.Series(range(age, max_age))})\n",
    "\n",
    "    df['Yearly Income'] = df.apply(lambda x: salary, axis=1)\n",
    "    df['Yearly Spending'] = df.apply(lambda x: spending, axis=1)\n",
    "    df['Yearly Savings'] = df.apply(lambda x: salary-spending, axis=1)\n",
    "    df['Total Stash'] = df.apply(lambda x: calc_stash_compound_interest(net_worth, salary-spending, rate*.01, x['Age']-age), axis=1)\n",
    "    df['Principal'] = df.apply(lambda x: calc_principal(net_worth, salary-spending, x['Age']-age), axis=1)\n",
    "    df['Total Stash'] = df['Total Stash'].astype('int64')\n",
    "    df['Principal'] = df['Principal'].astype('int64')\n",
    "    return df\n",
    "\n",
    "style = {'description_width': 'initial'}\n",
    "\n",
    "ma = 80\n",
    "age = widgets.IntText(\n",
    "    value=20,\n",
    "    placeholder=20,\n",
    "    description='Age you begin investing:',\n",
    "    readout_format='d',\n",
    "    style=style,\n",
    "    disabled=False\n",
    ")\n",
    "\n",
    "rate = widgets.IntText(\n",
    "    value=4,\n",
    "    placeholder=4,\n",
    "    description='Rate of return on investments:',\n",
    "    readout_format='d',\n",
    "    style=style,\n",
    "    disabled=False\n",
    ")\n",
    "\n",
    "salary = widgets.IntText(\n",
    "    value=80000,\n",
    "    placeholder=80000,\n",
    "    description='Yearly Salary: $',\n",
    "    readout_format='d',\n",
    "    style=style,\n",
    "    disabled=False\n",
    ")\n",
    "\n",
    "spending = widgets.IntText(\n",
    "    value=60000,\n",
    "    placeholder=60000,\n",
    "    description='Yearly Spending: $',\n",
    "    readout_format='d',\n",
    "    style=style,\n",
    "    disabled=False\n",
    ")\n",
    "\n",
    "net_worth = widgets.IntText(\n",
    "    value=20000,\n",
    "    placeholder=20000,\n",
    "    description='Current amount of assets or debt: $',\n",
    "    readout_format='d',\n",
    "    style=style,\n",
    "    disabled=False\n",
    ")\n",
    "\n",
    "def r_output(r, a, sal, sp, w):\n",
    "    #create and display dataframe\n",
    "    \n",
    "    def get_ret_age(df, ret_tgt):\n",
    "        try:\n",
    "            return df['Age'][df['Total Stash'] >= ret_tgt].iloc[0]\n",
    "        except:\n",
    "            return None\n",
    " \n",
    "    def get_ret_num(df, ret_age):\n",
    "        try:\n",
    "            return df['Total Stash'][df['Age'] >= ret_age].iloc[0]\n",
    "        except:\n",
    "            return df['Total Stash'].max()\n",
    "        \n",
    "    def func(stash, retire_number):\n",
    "        if stash > retire_number:\n",
    "            return retire_number\n",
    "        else:\n",
    "            return stash\n",
    "\n",
    "    df_plot = get_retirement_df(r, a, ma, sal, sp, w)\n",
    "    ret_target = 25*sp\n",
    "    ret_age = get_ret_age(df_plot, ret_target)\n",
    "    ret_number = get_ret_num(df_plot, ret_age)\n",
    "    df_plot['Retired Stash'] = df_plot.apply(lambda x: func(x['Total Stash'], ret_number), axis=1)\n",
    "\n",
    "    if ret_age is None:\n",
    "        print(\"Try reducing your spending or you won't have enough money to retire.\")\n",
    "    else:\n",
    "        ax = df_plot.plot.line(x='Age', y=['Total Stash', 'Retired Stash', 'Principal'], figsize=(12,8), linewidth=3, grid=True)\n",
    "        fmt = '${x:,.0f}'\n",
    "        tick = mtick.StrMethodFormatter(fmt)\n",
    "        ax.yaxis.set_major_formatter(tick)\n",
    "        ymin, ymax = ax.get_ylim()\n",
    "        xmin, xmax = ax.get_xlim()\n",
    "        ax.scatter(ret_age, ret_number, s=700, color='yellow', zorder=10)\n",
    "        ax.text(ret_age, ret_number+(ymax/100), s='   You may be able to retire at age ' + str(ret_age), fontsize='xx-large', fontweight='bold', color = 'purple', zorder=11)\n",
    "\n",
    "    #display(df_plot)\n",
    " \n",
    "    return(\"compare rate returns example\")"
   ]
  },
  {
   "cell_type": "markdown",
   "metadata": {
    "editable": true,
    "slideshow": {
     "slide_type": ""
    },
    "tags": []
   },
   "source": [
    "<br>\n",
    "\n",
    "----------\n",
    "<br>"
   ]
  },
  {
   "cell_type": "markdown",
   "metadata": {
    "editable": true,
    "slideshow": {
     "slide_type": ""
    },
    "tags": []
   },
   "source": [
    " ## Basic retirement planning tool"
   ]
  },
  {
   "cell_type": "code",
   "execution_count": null,
   "metadata": {
    "editable": true,
    "slideshow": {
     "slide_type": ""
    },
    "tags": [
     "hide-input"
    ]
   },
   "outputs": [],
   "source": [
    "r_res = widgets.interactive(r_output, r=rate, a=age, sal=salary, sp=spending, w=net_worth)\n",
    "widgets.VBox([r_res])"
   ]
  },
  {
   "cell_type": "markdown",
   "metadata": {
    "editable": true,
    "slideshow": {
     "slide_type": ""
    },
    "tags": []
   },
   "source": [
    "<br>\n",
    "\n",
    "----------\n",
    "<br>"
   ]
  },
  {
   "cell_type": "markdown",
   "metadata": {
    "editable": true,
    "slideshow": {
     "slide_type": ""
    },
    "tags": []
   },
   "source": [
    "## Takeaway\n",
    " - Track your spending - budgeting\n",
    " - Payoff debts\n",
    " - Lower your spending\n",
    " - Build emergency fund\n",
    " - Invest for the future\n",
    "    - Be nice to your future self\n",
    "    - How soon can you retire?\n",
    "    - The 4% rule\n",
    "    - Invest early and often (more compound interest magic)\n",
    "  \n"
   ]
  },
  {
   "cell_type": "markdown",
   "metadata": {
    "editable": true,
    "slideshow": {
     "slide_type": ""
    },
    "tags": []
   },
   "source": [
    "<br>\n",
    "\n",
    "----------\n",
    "<br>"
   ]
  },
  {
   "cell_type": "markdown",
   "metadata": {
    "editable": true,
    "slideshow": {
     "slide_type": ""
    },
    "tags": []
   },
   "source": [
    "## Links\n",
    "- FIRE Intro on Youtube - https://www.youtube.com/watch?v=8si7cqw9wm0\n",
    "- FIRE retirement calculator - https://playingwithfire.co/retirementcalculator/\n",
    "- Mr. Money Mustache & the 4% Rule - https://www.mrmoneymustache.com/2012/05/29/how-much-do-i-need-for-retirement/\n",
    "- compound interest - https://www.fool.com/how-to-invest/thirteen-steps/step-1-change-your-life-with-one-calculation.aspx\n",
    "- Was the 401(k) a mistake? - https://www.nytimes.com/2024/05/20/podcasts/the-daily/401k-retirement.html"
   ]
  },
  {
   "cell_type": "markdown",
   "metadata": {
    "editable": true,
    "scrolled": true,
    "slideshow": {
     "slide_type": ""
    },
    "tags": []
   },
   "source": [
    "## Citations\n",
    "Cumby, James & Degiacomi, Matteo & Erastova, Valentina & Guven, Jonna & Hobday, Claire & Mey, Antonia & Pollak, Hannah & Szabla, Rafał. (2023). Course Materials for an Introduction to Data-Driven Chemistry. Journal of Open Source Education. 6. 192. 10.21105/jose.00192. "
   ]
  },
  {
   "cell_type": "code",
   "execution_count": null,
   "metadata": {
    "editable": true,
    "slideshow": {
     "slide_type": ""
    },
    "tags": []
   },
   "outputs": [],
   "source": []
  }
 ],
 "metadata": {
  "kernelspec": {
   "display_name": "Python 3 (ipykernel)",
   "language": "python",
   "name": "python3"
  },
  "language_info": {
   "codemirror_mode": {
    "name": "ipython",
    "version": 3
   },
   "file_extension": ".py",
   "mimetype": "text/x-python",
   "name": "python",
   "nbconvert_exporter": "python",
   "pygments_lexer": "ipython3",
   "version": "3.9.6"
  },
  "toc": {
   "base_numbering": 1,
   "nav_menu": {},
   "number_sections": false,
   "sideBar": true,
   "skip_h1_title": true,
   "title_cell": "Table of Contents",
   "title_sidebar": "Contents",
   "toc_cell": false,
   "toc_position": {},
   "toc_section_display": true,
   "toc_window_display": false
  }
 },
 "nbformat": 4,
 "nbformat_minor": 4
}
