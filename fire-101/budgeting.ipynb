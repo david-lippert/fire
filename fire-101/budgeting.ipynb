{
 "cells": [
  {
   "attachments": {},
   "cell_type": "markdown",
   "metadata": {
    "editable": true,
    "slideshow": {
     "slide_type": ""
    },
    "tags": []
   },
   "source": [
    "# Track your spending - budgeting\n",
    "\n",
    "## First steps to acheiving Financial Independence\n",
    "1. Understand how much you make and how much you spend\n",
    "2. Understand where you spend your money\n",
    "    - Everyone has different styles or preferences (more or less granularity)\n",
    "    - Here are my bins (housing, health, food, transportation, utilities, miscellaneous)\n",
    "\n",
    "**Tools**\n",
    "- YNAB & MINT\n",
    "- Excel\n",
    "- Quicken\n",
    "- Bank apps"
   ]
  },
  {
   "cell_type": "code",
   "execution_count": 1,
   "metadata": {
    "editable": true,
    "scrolled": true,
    "slideshow": {
     "slide_type": ""
    },
    "tags": [
     "hide-input"
    ]
   },
   "outputs": [],
   "source": [
    "from IPython.display import YouTubeVideo, display\n",
    "from helper_functions.mentimeter import Mentimeter"
   ]
  },
  {
   "cell_type": "code",
   "execution_count": 5,
   "metadata": {
    "editable": true,
    "slideshow": {
     "slide_type": ""
    },
    "tags": [
     "hide-input"
    ]
   },
   "outputs": [
    {
     "data": {
      "text/html": [
       "<div style='width:100%; height:40vh;'> <iframe src=https://www.mentimeter.com/app/presentation/al3bon1eofr38siunek3o1ykwqqkf18w height=100% width=90%></iframe> </div>"
      ],
      "text/plain": [
       "<IPython.core.display.HTML object>"
      ]
     },
     "execution_count": 5,
     "metadata": {},
     "output_type": "execute_result"
    }
   ],
   "source": [
    "Mentimeter(result ='https://www.mentimeter.com/app/presentation/al3bon1eofr38siunek3o1ykwqqkf18w'\n",
    "          ).show()"
   ]
  }
 ],
 "metadata": {
  "kernelspec": {
   "display_name": "Python 3 (ipykernel)",
   "language": "python",
   "name": "python3"
  },
  "language_info": {
   "codemirror_mode": {
    "name": "ipython",
    "version": 3
   },
   "file_extension": ".py",
   "mimetype": "text/x-python",
   "name": "python",
   "nbconvert_exporter": "python",
   "pygments_lexer": "ipython3",
   "version": "3.9.6"
  },
  "toc": {
   "base_numbering": 1,
   "nav_menu": {},
   "number_sections": false,
   "sideBar": true,
   "skip_h1_title": true,
   "title_cell": "Table of Contents",
   "title_sidebar": "Contents",
   "toc_cell": false,
   "toc_position": {},
   "toc_section_display": true,
   "toc_window_display": false
  }
 },
 "nbformat": 4,
 "nbformat_minor": 4
}
