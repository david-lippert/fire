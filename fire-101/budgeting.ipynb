{
 "cells": [
  {
   "attachments": {},
   "cell_type": "markdown",
   "metadata": {
    "editable": true,
    "slideshow": {
     "slide_type": ""
    },
    "tags": []
   },
   "source": [
    "# Track your spending - budgeting\n",
    "\n",
    "## First steps to acheiving Financial Independence\n",
    "1. Understand how much you make and how much you spend\n",
    "2. Understand where you spend your money\n",
    "    - Everyone has different styles or preferences (more or less granularity)\n",
    "    - Setup categories that work for you\n",
    "        - housing/rent\n",
    "        - healthcare\n",
    "        - daycare/school\n",
    "        - food\n",
    "        - transportation\n",
    "        - utilities\n",
    "        - vacation\n",
    "        - giving\n",
    "        - entertainment\n",
    "    - Automate tracking\n",
    "    - Track your spending\n",
    "\n",
    "**Tools**\n",
    "- YNAB & MINT\n",
    "- Excel\n",
    "- Quicken\n",
    "- Bank apps"
   ]
  },
  {
   "cell_type": "markdown",
   "metadata": {
    "editable": true,
    "slideshow": {
     "slide_type": ""
    },
    "tags": []
   },
   "source": [
    "<br>\n",
    "\n",
    "----------\n",
    "<br>"
   ]
  },
  {
   "cell_type": "markdown",
   "metadata": {
    "editable": true,
    "slideshow": {
     "slide_type": ""
    },
    "tags": []
   },
   "source": [
    "### YNAB Income vs Expense Report\n",
    "\n",
    "![YNAB Income Expense Report](images/ynab-income-exp-1024x691.png)"
   ]
  },
  {
   "cell_type": "markdown",
   "metadata": {
    "editable": true,
    "slideshow": {
     "slide_type": ""
    },
    "tags": []
   },
   "source": [
    "<br>\n",
    "\n",
    "----------\n",
    "<br>"
   ]
  },
  {
   "cell_type": "markdown",
   "metadata": {
    "editable": true,
    "slideshow": {
     "slide_type": ""
    },
    "tags": []
   },
   "source": [
    "### YNAB Spending Report\n",
    "\n",
    "![YNAB Spending Report](images/ynab-spending-1024x720.png)\n"
   ]
  }
 ],
 "metadata": {
  "kernelspec": {
   "display_name": "Python 3 (ipykernel)",
   "language": "python",
   "name": "python3"
  },
  "language_info": {
   "codemirror_mode": {
    "name": "ipython",
    "version": 3
   },
   "file_extension": ".py",
   "mimetype": "text/x-python",
   "name": "python",
   "nbconvert_exporter": "python",
   "pygments_lexer": "ipython3",
   "version": "3.9.6"
  },
  "toc": {
   "base_numbering": 1,
   "nav_menu": {},
   "number_sections": false,
   "sideBar": true,
   "skip_h1_title": true,
   "title_cell": "Table of Contents",
   "title_sidebar": "Contents",
   "toc_cell": false,
   "toc_position": {},
   "toc_section_display": true,
   "toc_window_display": false
  }
 },
 "nbformat": 4,
 "nbformat_minor": 4
}
